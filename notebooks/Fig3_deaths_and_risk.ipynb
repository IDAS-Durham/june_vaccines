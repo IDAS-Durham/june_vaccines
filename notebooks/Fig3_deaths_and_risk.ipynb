{
 "cells": [
  {
   "cell_type": "code",
   "execution_count": 1,
   "metadata": {},
   "outputs": [],
   "source": [
    "%load_ext autoreload\n",
    "%autoreload 2"
   ]
  },
  {
   "cell_type": "code",
   "execution_count": 2,
   "metadata": {},
   "outputs": [
    {
     "name": "stderr",
     "output_type": "stream",
     "text": [
      "No --data argument given - defaulting to:\n",
      "/cosma6/data/dp004/dc-cues1/JUNE-private/data\n",
      "No --configs argument given - defaulting to:\n",
      "/cosma6/data/dp004/dc-cues1/JUNE-private/june/configs\n",
      "--------------------------------------------------------------------------\n",
      "By default, for Open MPI 4.0 and later, infiniband ports on a device\n",
      "are not used by default.  The intent is to use UCX for these devices.\n",
      "You can override this policy by setting the btl_openib_allow_ib MCA parameter\n",
      "to true.\n",
      "\n",
      "  Local host:              login7b\n",
      "  Local adapter:           mlx5_0\n",
      "  Local port:              1\n",
      "\n",
      "--------------------------------------------------------------------------\n",
      "--------------------------------------------------------------------------\n",
      "WARNING: There was an error initializing an OpenFabrics device.\n",
      "\n",
      "  Local host:   login7b\n",
      "  Local device: mlx5_0\n",
      "--------------------------------------------------------------------------\n"
     ]
    }
   ],
   "source": [
    "from utils import read_infections_and_deaths\n",
    "import matplotlib.pyplot as plt\n",
    "import numpy as np\n",
    "import pandas as pd\n",
    "from pathlib import Path\n",
    "\n",
    "from june.records import RecordReader"
   ]
  },
  {
   "cell_type": "code",
   "execution_count": 3,
   "metadata": {},
   "outputs": [],
   "source": [
    "import matplotlib as mpl\n",
    "mpl.rcParams['figure.dpi'] = 300\n",
    "\n",
    "plt.style.use(['science'])\n",
    "plt.style.reload_library()"
   ]
  },
  {
   "cell_type": "code",
   "execution_count": 5,
   "metadata": {},
   "outputs": [],
   "source": [
    "n_runs = 8"
   ]
  },
  {
   "cell_type": "code",
   "execution_count": 6,
   "metadata": {},
   "outputs": [],
   "source": [
    "DATA_DIR = Path('/cosma6/data/dp004/dc-quer1/vaccine_paper_runs/')"
   ]
  },
  {
   "cell_type": "code",
   "execution_count": 7,
   "metadata": {},
   "outputs": [],
   "source": [
    "# read one people df\n",
    "read = RecordReader(\n",
    "    results_path=DATA_DIR / 'baselines/results/run_000'\n",
    ")\n",
    "people_df = read.table_to_df('population')"
   ]
  },
  {
   "cell_type": "code",
   "execution_count": null,
   "metadata": {},
   "outputs": [],
   "source": [
    "%%time\n",
    "\n",
    "infections_dfs, deaths_dfs = [], []\n",
    "for run in range(n_runs):\n",
    "    inf_df, death_df = read_infections_and_deaths(\n",
    "        data_dir =DATA_DIR / 'baselines/results/', run=run\n",
    "    )\n",
    "    infections_dfs.append(inf_df)\n",
    "    deaths_dfs.append(death_df)"
   ]
  },
  {
   "cell_type": "code",
   "execution_count": null,
   "metadata": {},
   "outputs": [],
   "source": [
    "%%time\n",
    "\n",
    "first_wave_infections_dfs, first_wave_deaths_dfs = [], []\n",
    "\n",
    "for run in range(n_runs):\n",
    "    inf_df, death_df = read_infections_and_deaths(run=run, \n",
    "            data_dir=Path('/cosma5/data/durham/covid19/results_kobe_best_runs/')\n",
    "    )\n",
    "    first_wave_infections_dfs.append(inf_df)\n",
    "    first_wave_deaths_dfs.append(death_df)"
   ]
  },
  {
   "cell_type": "code",
   "execution_count": null,
   "metadata": {},
   "outputs": [],
   "source": [
    "def average_sumaries(summary_list):\n",
    "    df_concat = pd.concat(summary_list)\n",
    "    by_row_index = df_concat.groupby(df_concat.index)\n",
    "    df_means = by_row_index.mean()\n",
    "    df_std = by_row_index.std()   \n",
    "    return df_means, df_std/np.sqrt(len(summary_list))"
   ]
  },
  {
   "cell_type": "markdown",
   "metadata": {},
   "source": [
    "## Age distribution deaths"
   ]
  },
  {
   "cell_type": "code",
   "execution_count": null,
   "metadata": {},
   "outputs": [],
   "source": [
    "age_bins = np.arange(0,101,6)\n",
    "\n",
    "n_people_by_age = people_df.groupby([pd.cut(people_df['age'],\n",
    "    bins=age_bins, right=False)]).size()\n"
   ]
  },
  {
   "cell_type": "code",
   "execution_count": null,
   "metadata": {},
   "outputs": [],
   "source": [
    "\n",
    "deaths_by_age = [\n",
    "    100.*death_df.groupby(\n",
    "        pd.cut(\n",
    "            death_df['age'], bins=age_bins, right=False\n",
    "        )).size()/len(death_df)   for death_df in deaths_dfs\n",
    "]\n",
    "\n",
    "first_wave_deaths_by_age = [\n",
    "    100.*death_df.groupby(\n",
    "        pd.cut(\n",
    "            death_df['age'], bins=age_bins, right=False\n",
    "        )).size()/len(death_df)   for death_df in first_wave_deaths_dfs\n",
    "]"
   ]
  },
  {
   "cell_type": "code",
   "execution_count": null,
   "metadata": {},
   "outputs": [],
   "source": [
    "avg_deaths_by_age, std_deaths_by_age = average_sumaries(deaths_by_age)\n",
    "avg_first_wave_deaths_by_age, std_first_wave_deaths_by_age = average_sumaries(first_wave_deaths_by_age)"
   ]
  },
  {
   "cell_type": "code",
   "execution_count": null,
   "metadata": {},
   "outputs": [],
   "source": [
    "def revert_to_string(age):\n",
    "    a = age.left\n",
    "    b = age.right\n",
    "    return f\"{a}-{b}\"\n",
    "\n",
    "avg_deaths_by_age = avg_deaths_by_age.rename(revert_to_string)\n",
    "avg_first_wave_deaths_by_age = avg_first_wave_deaths_by_age.rename(revert_to_string)"
   ]
  },
  {
   "cell_type": "code",
   "execution_count": null,
   "metadata": {},
   "outputs": [],
   "source": [
    "std_deaths_by_age = std_deaths_by_age.rename(revert_to_string)\n",
    "std_first_wave_deaths_by_age = std_first_wave_deaths_by_age.rename(revert_to_string)"
   ]
  },
  {
   "cell_type": "code",
   "execution_count": null,
   "metadata": {},
   "outputs": [],
   "source": [
    "deaths_to_plot = pd.DataFrame(index=avg_deaths_by_age.index)\n",
    "deaths_to_plot.loc[:, 'Projected'] = avg_deaths_by_age\n",
    "deaths_to_plot.loc[:, '1st Wave'] = avg_first_wave_deaths_by_age\n",
    "\n",
    "std_deaths_to_plot = pd.DataFrame(index=std_deaths_by_age.index)\n",
    "std_deaths_to_plot.loc[:, 'Projected'] = std_deaths_by_age\n",
    "std_deaths_to_plot.loc[:, '1st Wave'] = std_first_wave_deaths_by_age"
   ]
  },
  {
   "cell_type": "code",
   "execution_count": null,
   "metadata": {
    "scrolled": true
   },
   "outputs": [],
   "source": [
    "fig, ax = plt.subplots()\n",
    "\n",
    "\n",
    "deaths_to_plot.plot.bar(\n",
    "            capsize=4,\n",
    "            ylabel=\"\",\n",
    "            xlabel=\"Age\",\n",
    "            width=0.8,\n",
    "            alpha=0.7,\n",
    "            ax=ax,\n",
    "            yerr=std_deaths_to_plot,\n",
    "        )\n",
    "ax.set_ylabel('Deaths in age group [\\%]')\n",
    "plt.savefig('figures/deaths_by_age.pdf')"
   ]
  },
  {
   "cell_type": "markdown",
   "metadata": {},
   "source": [
    "## Crude fatality rates"
   ]
  },
  {
   "cell_type": "code",
   "execution_count": null,
   "metadata": {},
   "outputs": [],
   "source": [
    "\n",
    "n_by_vaccine_age = people_df.groupby([\n",
    "                'vaccine_type', \n",
    "                pd.cut(people_df['age'],\n",
    "    bins=age_bins, right=False)]).size()"
   ]
  },
  {
   "cell_type": "code",
   "execution_count": null,
   "metadata": {},
   "outputs": [],
   "source": [
    "\n",
    "def compute_crude_death_rate_by_age(n_by_vaccine_age, deaths_df, vaccine_type):\n",
    "    if vaccine_type is not None:\n",
    "        n_by_age = n_by_vaccine_age.loc[vaccine_type]\n",
    "        death_df = deaths_df[(deaths_df['vaccine_type'] == vaccine_type)]\n",
    "    else:\n",
    "        n_by_age = n_by_vaccine_age.groupby(['age']).sum()\n",
    "        death_df = deaths_df\n",
    "    death_by_age = death_df.groupby([\n",
    "            pd.cut(death_df['age'],\n",
    "                bins=age_bins, right=False)]).size()\n",
    "    death_rate = death_by_age / n_by_age\n",
    "    death_rate = death_rate.fillna(0)\n",
    "    return 100.*death_rate"
   ]
  },
  {
   "cell_type": "code",
   "execution_count": null,
   "metadata": {},
   "outputs": [],
   "source": [
    "avg_first_wave_drs, std_first_wave_drs = average_sumaries([\n",
    "    compute_crude_death_rate_by_age(n_by_vaccine_age, deaths_df,None) \n",
    "    for deaths_df in first_wave_deaths_dfs\n",
    "])\n",
    "\n",
    "\n",
    "avg_unvaccinated_drs, std_unvaccinated_drs = average_sumaries([\n",
    "    compute_crude_death_rate_by_age(n_by_vaccine_age, deaths_df,'none') \n",
    "    for deaths_df in deaths_dfs\n",
    "])\n",
    "\n",
    "avg_vaccinated_drs, std_vaccinated_drs = average_sumaries([\n",
    "    compute_crude_death_rate_by_age(n_by_vaccine_age, deaths_df,None) \n",
    "    for deaths_df in deaths_dfs\n",
    "])\n"
   ]
  },
  {
   "cell_type": "code",
   "execution_count": null,
   "metadata": {},
   "outputs": [],
   "source": [
    "dr_toplot = pd.DataFrame(index=avg_first_wave_drs.index)\n"
   ]
  },
  {
   "cell_type": "code",
   "execution_count": null,
   "metadata": {},
   "outputs": [],
   "source": [
    "dr_toplot.loc[:,'Projected Vaccinated'] = avg_vaccinated_drs\n",
    "dr_toplot.loc[:,'1st Wave'] = avg_first_wave_drs\n",
    "dr_toplot.loc[:,'Projected Unvaccinated'] = avg_unvaccinated_drs\n"
   ]
  },
  {
   "cell_type": "code",
   "execution_count": null,
   "metadata": {},
   "outputs": [],
   "source": [
    "std_dr_toplot = pd.DataFrame(index=avg_first_wave_drs.index)\n",
    "std_dr_toplot.loc[:,'Projected Vaccinated'] = std_vaccinated_drs\n",
    "std_dr_toplot.loc[:,'1st Wave'] = std_first_wave_drs\n",
    "std_dr_toplot.loc[:,'Projected Unvaccinated'] = std_unvaccinated_drs\n"
   ]
  },
  {
   "cell_type": "code",
   "execution_count": null,
   "metadata": {},
   "outputs": [],
   "source": [
    "\n",
    "dr_toplot = dr_toplot.rename(mapper=revert_to_string)\n",
    "\n",
    "std_dr_toplot = std_dr_toplot.rename(mapper=revert_to_string)\n"
   ]
  },
  {
   "cell_type": "code",
   "execution_count": null,
   "metadata": {
    "scrolled": false
   },
   "outputs": [],
   "source": [
    "fig, ax = plt.subplots(ncols=2,sharex=False,sharey=False,figsize=(9.5,3.))\n",
    "\n",
    "\n",
    "deaths_to_plot.plot.bar(\n",
    "            capsize=4,\n",
    "            ylabel=\"\",\n",
    "            xlabel=\"Age\",\n",
    "            width=0.8,\n",
    "            alpha=0.7,\n",
    "            ax=ax[0],\n",
    "            yerr=std_deaths_to_plot,\n",
    "        )\n",
    "ax[0].set_ylabel('Deaths in age group [\\%]')\n",
    "\n",
    "dr_toplot.plot.bar(\n",
    "            capsize=4,\n",
    "            ylabel=\"Crude Fatality Rate [\\%]\",\n",
    "            xlabel=\"Age\",\n",
    "            width=0.8,\n",
    "            alpha=0.7,\n",
    "            ax=ax[1],\n",
    "            yerr=std_dr_toplot,\n",
    "        )\n",
    "\n",
    "ax[1].set_yscale('log')\n",
    "ax[1].set_ylim(1e-3)\n",
    "\n",
    "plt.savefig('figures/crude_fatality_rates.pdf')"
   ]
  },
  {
   "cell_type": "code",
   "execution_count": null,
   "metadata": {
    "scrolled": false
   },
   "outputs": [],
   "source": [
    "fig, ax = plt.subplots(ncols=2,sharex=False,sharey=False,figsize=(9.5,3.))\n",
    "\n",
    "\n",
    "deaths_to_plot.plot.bar(\n",
    "            capsize=4,\n",
    "            ylabel=\"\",\n",
    "            xlabel=\"Age\",\n",
    "            width=0.8,\n",
    "            alpha=0.7,\n",
    "            ax=ax[0],\n",
    "            yerr=std_deaths_to_plot,\n",
    "        )\n",
    "ax[0].set_ylabel('Deaths in age group [\\%]')\n",
    "\n",
    "dr_toplot.plot.bar(\n",
    "            capsize=4,\n",
    "            ylabel=\"Crude Fatality Rate [\\%]\",\n",
    "            xlabel=\"Age\",\n",
    "            width=0.8,\n",
    "            alpha=0.7,\n",
    "            ax=ax[1],\n",
    "            yerr=std_dr_toplot,\n",
    "        )\n",
    "\n",
    "plt.savefig('figures/linear_crude_fatality_rates.pdf')"
   ]
  },
  {
   "cell_type": "code",
   "execution_count": null,
   "metadata": {},
   "outputs": [],
   "source": []
  },
  {
   "cell_type": "code",
   "execution_count": null,
   "metadata": {},
   "outputs": [],
   "source": []
  },
  {
   "cell_type": "code",
   "execution_count": null,
   "metadata": {},
   "outputs": [],
   "source": []
  }
 ],
 "metadata": {
  "kernelspec": {
   "display_name": "Python 3 (ipykernel)",
   "language": "python",
   "name": "python3"
  },
  "language_info": {
   "codemirror_mode": {
    "name": "ipython",
    "version": 3
   },
   "file_extension": ".py",
   "mimetype": "text/x-python",
   "name": "python",
   "nbconvert_exporter": "python",
   "pygments_lexer": "ipython3",
   "version": "3.7.6"
  }
 },
 "nbformat": 4,
 "nbformat_minor": 4
}
