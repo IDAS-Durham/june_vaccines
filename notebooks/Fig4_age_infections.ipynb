{
 "cells": [
  {
   "cell_type": "code",
   "execution_count": 1,
   "metadata": {},
   "outputs": [
    {
     "name": "stderr",
     "output_type": "stream",
     "text": [
      "No --data argument given - defaulting to:\n",
      "/cosma6/data/dp004/dc-cues1/JUNE-private/data\n",
      "No --configs argument given - defaulting to:\n",
      "/cosma6/data/dp004/dc-cues1/JUNE-private/june/configs\n",
      "--------------------------------------------------------------------------\n",
      "By default, for Open MPI 4.0 and later, infiniband ports on a device\n",
      "are not used by default.  The intent is to use UCX for these devices.\n",
      "You can override this policy by setting the btl_openib_allow_ib MCA parameter\n",
      "to true.\n",
      "\n",
      "  Local host:              login7b\n",
      "  Local adapter:           mlx5_0\n",
      "  Local port:              1\n",
      "\n",
      "--------------------------------------------------------------------------\n",
      "--------------------------------------------------------------------------\n",
      "WARNING: There was an error initializing an OpenFabrics device.\n",
      "\n",
      "  Local host:   login7b\n",
      "  Local device: mlx5_0\n",
      "--------------------------------------------------------------------------\n"
     ]
    }
   ],
   "source": [
    "from utils import read_infections_and_deaths\n",
    "import matplotlib.pyplot as plt\n",
    "import numpy as np\n",
    "import pandas as pd\n",
    "from pathlib import Path\n",
    "\n",
    "from june.records import RecordReader"
   ]
  },
  {
   "cell_type": "code",
   "execution_count": 2,
   "metadata": {},
   "outputs": [],
   "source": [
    "import matplotlib as mpl\n",
    "mpl.rcParams['figure.dpi'] = 300\n",
    "\n",
    "plt.style.use(['science'])\n",
    "plt.style.reload_library()"
   ]
  },
  {
   "cell_type": "code",
   "execution_count": null,
   "metadata": {},
   "outputs": [],
   "source": [
    "read = RecordReader(\n",
    "    results_path='/cosma6/data/dp004/dc-quer1/vaccine_paper_runs/baselines/results/run_007/'\n",
    ")\n",
    "people_df = read.table_to_df('population')"
   ]
  },
  {
   "cell_type": "code",
   "execution_count": null,
   "metadata": {},
   "outputs": [],
   "source": [
    "%%time\n",
    "\n",
    "infections_df, deaths_df = read_infections_and_deaths(run=7)\n"
   ]
  },
  {
   "cell_type": "code",
   "execution_count": null,
   "metadata": {},
   "outputs": [],
   "source": [
    "age_bins = [0,12,16,18,40,60,80,100]\n"
   ]
  },
  {
   "cell_type": "code",
   "execution_count": null,
   "metadata": {},
   "outputs": [],
   "source": [
    "mean_age = infections_df.groupby(['timestamp'])['age'].mean().rolling(window='5D').median()"
   ]
  },
  {
   "cell_type": "code",
   "execution_count": null,
   "metadata": {},
   "outputs": [],
   "source": [
    "n_infections = infections_df.groupby(['timestamp']).size().rolling(window='5D').mean()"
   ]
  },
  {
   "cell_type": "code",
   "execution_count": null,
   "metadata": {},
   "outputs": [],
   "source": [
    "df_age = pd.concat([n_infections, mean_age], axis=1)"
   ]
  },
  {
   "cell_type": "code",
   "execution_count": null,
   "metadata": {},
   "outputs": [],
   "source": [
    "df_age.index = pd.to_datetime(df_age.index)"
   ]
  },
  {
   "cell_type": "code",
   "execution_count": null,
   "metadata": {},
   "outputs": [],
   "source": [
    "fig, ax = plt.subplots(figsize=(6,3))\n",
    "\n",
    "df_age.reset_index().plot.scatter(\n",
    "    'timestamp', 0, c='age',cmap='cividis',ax=ax,\n",
    "    s=5\n",
    ")\n",
    "ax.set_xlabel('')\n",
    "ax.set_ylabel('\\# Infections')"
   ]
  },
  {
   "cell_type": "code",
   "execution_count": null,
   "metadata": {},
   "outputs": [],
   "source": [
    "# Percent of daily infections by age group"
   ]
  },
  {
   "cell_type": "code",
   "execution_count": null,
   "metadata": {},
   "outputs": [],
   "source": [
    "n_infected_by_age = infections_df.groupby(['timestamp',pd.cut(infections_df['age'],\n",
    "            bins=age_bins,right=False)]).size()"
   ]
  },
  {
   "cell_type": "code",
   "execution_count": null,
   "metadata": {},
   "outputs": [],
   "source": [
    "percent_infections_in_age_group = n_infected_by_age/infections_df.groupby(['timestamp']).size()"
   ]
  },
  {
   "cell_type": "code",
   "execution_count": null,
   "metadata": {
    "scrolled": true
   },
   "outputs": [],
   "source": [
    "fig, ax = plt.subplots(nrows=2,figsize=(6,4),sharex=True,\n",
    "                       constrained_layout=True,\n",
    "                       gridspec_kw = {'wspace': 0.,'hspace':0}\n",
    "                      )\n",
    "\n",
    "df_age.reset_index().plot.scatter(\n",
    "    'timestamp', 0, c='age',cmap='cividis',ax=ax[0],\n",
    "    s=5\n",
    ")\n",
    "ax[0].set_xlabel('')\n",
    "ax[0].set_ylabel('\\# Infections')\n",
    "\n",
    "(100.*percent_infections_in_age_group).unstack().plot.area(stacked=True, cmap='cividis',alpha=0.8,ax=ax[1])\n",
    "ax[1].set_ylabel('\\% Infections in age group')\n",
    "\n",
    "ax[1].legend(bbox_to_anchor=(1,1))\n",
    "ax[1].set_xlabel('')\n",
    "#fig.subplots_adjust(hspace=0)"
   ]
  },
  {
   "cell_type": "code",
   "execution_count": null,
   "metadata": {
    "scrolled": true
   },
   "outputs": [],
   "source": [
    "fig, ax = plt.subplots(nrows=2,figsize=(8,4),sharex=True,\n",
    "                       constrained_layout=True,\n",
    "                       gridspec_kw = {'wspace': 0.,'hspace':0}\n",
    "                      )\n",
    "\n",
    "(n_infected_by_age).unstack().plot.area(stacked=True, cmap='cividis',alpha=0.8,ax=ax[0],legend=False)\n",
    "ax[0].set_xlabel('')\n",
    "ax[0].set_ylabel('\\# Infections')\n",
    "\n",
    "(100.*percent_infections_in_age_group).unstack().plot.area(stacked=True, cmap='cividis',alpha=0.8,ax=ax[1],\n",
    "                                                          legend=False)\n",
    "ax[1].set_ylabel('\\% Infections in age group')\n",
    "\n",
    "L = ax[0].legend(bbox_to_anchor=(1,1))\n",
    "L.get_texts()[0].set_text('0 to 12 years old')\n",
    "L.get_texts()[1].set_text('12 to 16 years old')\n",
    "L.get_texts()[2].set_text('16 to 18 years old')\n",
    "L.get_texts()[3].set_text('18 to 40 years old')\n",
    "L.get_texts()[4].set_text('40 to 60 years old')\n",
    "L.get_texts()[5].set_text('60 to 80 years old')\n",
    "L.get_texts()[6].set_text('80 to 100 years old')\n",
    "\n",
    "ax[1].set_xlabel('')\n",
    "#fig.subplots_adjust(hspace=0)\n",
    "plt.savefig('figures/age_hists.pdf')"
   ]
  },
  {
   "cell_type": "code",
   "execution_count": null,
   "metadata": {},
   "outputs": [],
   "source": []
  },
  {
   "cell_type": "code",
   "execution_count": null,
   "metadata": {},
   "outputs": [],
   "source": []
  },
  {
   "cell_type": "code",
   "execution_count": null,
   "metadata": {},
   "outputs": [],
   "source": []
  }
 ],
 "metadata": {
  "kernelspec": {
   "display_name": "Python 3 (ipykernel)",
   "language": "python",
   "name": "python3"
  },
  "language_info": {
   "codemirror_mode": {
    "name": "ipython",
    "version": 3
   },
   "file_extension": ".py",
   "mimetype": "text/x-python",
   "name": "python",
   "nbconvert_exporter": "python",
   "pygments_lexer": "ipython3",
   "version": "3.7.6"
  }
 },
 "nbformat": 4,
 "nbformat_minor": 4
}
